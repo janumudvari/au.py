{
 "cells": [
  {
   "cell_type": "markdown",
   "metadata": {},
   "source": [
    "# KNN Classification CIFAR-10\n",
    "The CIFAR-10 dataset consists of 60000 32x32 colour images in 10 classes, with 6000 images per class. There are 50000 training images and 10000 test images.\n",
    "\n",
    "The classes are completely mutually exclusive. There is no overlap between automobiles and trucks. \"Automobile\" includes sedans, SUVs, things of that sort. \"Truck\" includes only big trucks. Neither includes pickup trucks. Such a situation is called multiclass classification in oppose to multilabel classification when each example may have multiple label."
   ]
  },
  {
   "cell_type": "markdown",
   "metadata": {},
   "source": [
    "## Import Necessary packages"
   ]
  },
  {
   "cell_type": "code",
   "execution_count": 2,
   "metadata": {
    "scrolled": true
   },
   "outputs": [],
   "source": [
    "from IPython.core.debugger import Pdb as pdb\n",
    "import _pickle as cPickle\n",
    "import tarfile\n",
    "\n",
    "import numpy as np\n",
    "import pandas as pd\n",
    "\n",
    "from sklearn.linear_model import SGDClassifier\n",
    "from sklearn.neighbors import KNeighborsClassifier\n",
    "from sklearn.model_selection import train_test_split, GridSearchCV, PredefinedSplit\n",
    "from sklearn.metrics import accuracy_score\n",
    "\n",
    "import matplotlib\n",
    "import matplotlib.pyplot as plt\n",
    "\n",
    "\n",
    "%matplotlib inline\n"
   ]
  },
  {
   "cell_type": "markdown",
   "metadata": {},
   "source": [
    "Set style for plotting"
   ]
  },
  {
   "cell_type": "code",
   "execution_count": 4,
   "metadata": {
    "scrolled": true
   },
   "outputs": [],
   "source": [
    "#sns.set(style=\"whitegrid\", font_scale=1.3)\n",
    "matplotlib.rcParams[\"legend.framealpha\"] = 1\n",
    "matplotlib.rcParams[\"legend.frameon\"] = True"
   ]
  },
  {
   "cell_type": "code",
   "execution_count": 5,
   "metadata": {
    "scrolled": true
   },
   "outputs": [],
   "source": [
    "# Set a random seed for reproducibility\n",
    "np.random.seed(42)"
   ]
  },
  {
   "cell_type": "markdown",
   "metadata": {},
   "source": [
    "## Extract Data file"
   ]
  },
  {
   "cell_type": "markdown",
   "metadata": {},
   "source": [
    "\n",
    "  * DOWNLOAD the image data from [HERE](http://www.cs.toronto.edu/~kriz/cifar-10-python.tar.gz) \n",
    "  * PUT IT in the data folder insider a folder\n"
   ]
  },
  {
   "cell_type": "code",
   "execution_count": 6,
   "metadata": {
    "scrolled": true
   },
   "outputs": [],
   "source": [
    " # Unarchive data\n",
    "\n",
    "tar = tarfile.open(\"data/cifar-10-python.tar.gz\", \"r:gz\")\n",
    "tar.extractall(\"data\")\n",
    "tar.close()"
   ]
  },
  {
   "cell_type": "markdown",
   "metadata": {},
   "source": [
    "## Open and Load Data\n",
    "\n",
    "Data are stored as a memory dump with python dict object. It was created using pickle function. To read one should \"unpickle\" it."
   ]
  },
  {
   "cell_type": "code",
   "execution_count": 7,
   "metadata": {
    "scrolled": true
   },
   "outputs": [],
   "source": [
    "def unpickle(file):\n",
    "    fo = open(file, 'rb')\n",
    "    dict = cPickle.load(fo, encoding='latin1')\n",
    "    fo.close()\n",
    "    return dict"
   ]
  },
  {
   "cell_type": "markdown",
   "metadata": {},
   "source": [
    "## Divide data into six batches"
   ]
  },
  {
   "cell_type": "markdown",
   "metadata": {},
   "source": [
    "Data are also splitted in to 5 pieces for conveniece. Let's read them all and concatenate"
   ]
  },
  {
   "cell_type": "code",
   "execution_count": 8,
   "metadata": {
    "scrolled": true
   },
   "outputs": [],
   "source": [
    "for b in range(1, 6):\n",
    "    data_batch = unpickle(\"data/cifar-10-batches-py/data_batch_\" + str(b))\n",
    "    if b == 1:\n",
    "        X_train = data_batch[\"data\"]\n",
    "        y_train = np.array(data_batch[\"labels\"])\n",
    "    else:\n",
    "        X_train = np.append(X_train, data_batch[\"data\"], axis=0)\n",
    "        y_train = np.append(y_train, data_batch[\"labels\"], axis=0)"
   ]
  },
  {
   "cell_type": "markdown",
   "metadata": {},
   "source": [
    "Read test data. In this dataset train/test split is provided by authors of the dataset to be able to consistently evaluate solutions"
   ]
  },
  {
   "cell_type": "code",
   "execution_count": 11,
   "metadata": {
    "scrolled": true
   },
   "outputs": [],
   "source": [
    "data_batch = unpickle(\"data/cifar-10-batches-py/test_batch\")\n",
    "X_test = data_batch[\"data\"]\n",
    "y_test = np.array(data_batch[\"labels\"])"
   ]
  },
  {
   "cell_type": "code",
   "execution_count": 12,
   "metadata": {
    "scrolled": true
   },
   "outputs": [],
   "source": [
    "classes = unpickle(\"data/cifar-10-batches-py/batches.meta\")[\"label_names\"]"
   ]
  },
  {
   "cell_type": "markdown",
   "metadata": {},
   "source": [
    "## Data Preprocessing"
   ]
  },
  {
   "cell_type": "code",
   "execution_count": 13,
   "metadata": {
    "scrolled": true
   },
   "outputs": [
    {
     "name": "stdout",
     "output_type": "stream",
     "text": [
      "Train size: 50000\n",
      "Test size: 10000\n"
     ]
    }
   ],
   "source": [
    "print(\"Train size:\", X_train.shape[0])\n",
    "print(\"Test size:\", X_test.shape[0])"
   ]
  },
  {
   "cell_type": "markdown",
   "metadata": {},
   "source": [
    "## Downsample test and train set for easy experimentation\n"
   ]
  },
  {
   "cell_type": "markdown",
   "metadata": {},
   "source": [
    "Downsample the data by taking a random sample of 10% of train and test sets. This will allow us to do some experiments much more quickly."
   ]
  },
  {
   "cell_type": "code",
   "execution_count": 14,
   "metadata": {
    "scrolled": true
   },
   "outputs": [],
   "source": [
    "subsample_rate = 0.1"
   ]
  },
  {
   "cell_type": "markdown",
   "metadata": {},
   "source": [
    "In order to preserve the same quantity of ratio of classes, **stratification** option is used for sampling.\n",
    "Let's randomly (with fixed initial seed for the sake of reproducibility) divide part of train data"
   ]
  },
  {
   "cell_type": "code",
   "execution_count": 15,
   "metadata": {
    "scrolled": true
   },
   "outputs": [
    {
     "name": "stderr",
     "output_type": "stream",
     "text": [
      "/opt/conda/lib/python3.5/site-packages/sklearn/model_selection/_split.py:2026: FutureWarning: From version 0.21, test_size will always complement train_size unless both are specified.\n",
      "  FutureWarning)\n"
     ]
    }
   ],
   "source": [
    "X_train, _, y_train, _ = train_test_split(X_train, y_train, stratify=y_train, train_size=subsample_rate, random_state=42)"
   ]
  },
  {
   "cell_type": "code",
   "execution_count": 16,
   "metadata": {
    "scrolled": true
   },
   "outputs": [
    {
     "name": "stderr",
     "output_type": "stream",
     "text": [
      "/opt/conda/lib/python3.5/site-packages/sklearn/model_selection/_split.py:2026: FutureWarning: From version 0.21, test_size will always complement train_size unless both are specified.\n",
      "  FutureWarning)\n"
     ]
    }
   ],
   "source": [
    "X_test, _, y_test, _ = train_test_split(X_test, y_test, stratify=y_test, train_size=subsample_rate, random_state=42)"
   ]
  },
  {
   "cell_type": "code",
   "execution_count": 17,
   "metadata": {
    "scrolled": true
   },
   "outputs": [
    {
     "data": {
      "text/plain": [
       "[('airplane', 500),\n",
       " ('automobile', 500),\n",
       " ('bird', 500),\n",
       " ('cat', 500),\n",
       " ('deer', 500),\n",
       " ('dog', 500),\n",
       " ('frog', 500),\n",
       " ('horse', 500),\n",
       " ('ship', 500),\n",
       " ('truck', 500)]"
      ]
     },
     "execution_count": 17,
     "metadata": {},
     "output_type": "execute_result"
    }
   ],
   "source": [
    "unique_train = np.unique(y_train, return_counts=True)\n",
    "list(zip(np.array(classes)[unique_train[0]], unique_train[1]))"
   ]
  },
  {
   "cell_type": "code",
   "execution_count": 18,
   "metadata": {
    "scrolled": true
   },
   "outputs": [
    {
     "data": {
      "text/plain": [
       "(3072,)"
      ]
     },
     "execution_count": 18,
     "metadata": {},
     "output_type": "execute_result"
    }
   ],
   "source": [
    "X_train[0].shape"
   ]
  },
  {
   "cell_type": "code",
   "execution_count": 19,
   "metadata": {
    "scrolled": true
   },
   "outputs": [],
   "source": [
    "def show_pic(x):\n",
    "    plt.imshow(x.reshape((3, 32, 32)).transpose(1, 2, 0).astype(\"uint8\"))\n",
    "    plt.axis(\"off\")"
   ]
  },
  {
   "cell_type": "code",
   "execution_count": 20,
   "metadata": {
    "scrolled": true
   },
   "outputs": [],
   "source": [
    "classes_idx_examples = np.zeros(10, dtype=np.int)\n",
    "for i in range(10):\n",
    "    classes_idx_examples[i] = np.where(y_train == i)[0][0]"
   ]
  },
  {
   "cell_type": "code",
   "execution_count": 22,
   "metadata": {},
   "outputs": [
    {
     "data": {
      "image/png": "[encoded data removed]",
      "text/plain": [
       "<Figure size 864x360 with 10 Axes>"
      ]
     },
     "metadata": {},
     "output_type": "display_data"
    }
   ],
   "source": [
    "plt.figure(figsize=(12, 5))\n",
    "for i in range(10):\n",
    "    plt.subplot(2, 5, i + 1)\n",
    "    show_pic(X_train[classes_idx_examples[i]])\n",
    "    plt.title(classes[i])"
   ]
  },
  {
   "cell_type": "code",
   "execution_count": 21,
   "metadata": {
    "scrolled": true
   },
   "outputs": [],
   "source": [
    "results = pd.DataFrame(columns=[\"Model\", \"Test Accuracy\", \"Runtime(ms)\"])"
   ]
  },
  {
   "cell_type": "code",
   "execution_count": 23,
   "metadata": {
    "scrolled": true
   },
   "outputs": [
    {
     "data": {
      "text/html": [
       "<div>\n",
       "<style scoped>\n",
       "    .dataframe tbody tr th:only-of-type {\n",
       "        vertical-align: middle;\n",
       "    }\n",
       "\n",
       "    .dataframe tbody tr th {\n",
       "        vertical-align: top;\n",
       "    }\n",
       "\n",
       "    .dataframe thead th {\n",
       "        text-align: right;\n",
       "    }\n",
       "</style>\n",
       "<table border=\"1\" class=\"dataframe\">\n",
       "  <thead>\n",
       "    <tr style=\"text-align: right;\">\n",
       "      <th></th>\n",
       "      <th>Model</th>\n",
       "      <th>Test Accuracy</th>\n",
       "      <th>Runtime(ms)</th>\n",
       "    </tr>\n",
       "  </thead>\n",
       "  <tbody>\n",
       "  </tbody>\n",
       "</table>\n",
       "</div>"
      ],
      "text/plain": [
       "Empty DataFrame\n",
       "Columns: [Model, Test Accuracy, Runtime(ms)]\n",
       "Index: []"
      ]
     },
     "execution_count": 23,
     "metadata": {},
     "output_type": "execute_result"
    }
   ],
   "source": [
    "results"
   ]
  },
  {
   "cell_type": "markdown",
   "metadata": {},
   "source": [
    "## Classification using Logistic Regression"
   ]
  },
  {
   "cell_type": "markdown",
   "metadata": {},
   "source": [
    "Let's compare KNN model to a model based on Multinomial Logistic Regression\n",
    "\n",
    "Sklearn SGDClassifier with few options:\n",
    "\n",
    "   * loss=\"log\"− corresponds to Logistic Regression\n",
    "   * penalty=\"none\"− for now we don't want to use regularization (using it should impove quality by few percents)\n",
    "   * max_iter=15− the number of passes over the training data (aka epochs)\n",
    "   * average=10− by default Stochastic Gradient Descent method is used. This is due to the not very good approximation      of gradient (only by one example). To neglect this error we simply average gradient across last 10 steps."
   ]
  },
  {
   "cell_type": "code",
   "execution_count": 28,
   "metadata": {},
   "outputs": [
    {
     "data": {
      "text/plain": [
       "SGDClassifier(alpha=0.0001, average=10, class_weight=None, epsilon=0.1,\n",
       "       eta0=0.0, fit_intercept=True, l1_ratio=0.15,\n",
       "       learning_rate='optimal', loss='log', max_iter=15, n_iter=None,\n",
       "       n_jobs=-1, penalty='none', power_t=0.5, random_state=None,\n",
       "       shuffle=True, tol=None, verbose=0, warm_start=False)"
      ]
     },
     "execution_count": 28,
     "metadata": {},
     "output_type": "execute_result"
    }
   ],
   "source": [
    "import time\n",
    "start = time.time()\n",
    "duration =time.time()-start\n",
    "model_lr_sklearn = SGDClassifier(loss=\"log\", penalty=\"none\", max_iter=15, average=10, n_jobs=-1)\n",
    "model_lr_sklearn.fit(X_train, y_train)"
   ]
  },
  {
   "cell_type": "markdown",
   "metadata": {},
   "source": [
    "### Evalutaion\n",
    "Prediction"
   ]
  },
  {
   "cell_type": "code",
   "execution_count": 29,
   "metadata": {},
   "outputs": [],
   "source": [
    "y_pred_test = model_lr_sklearn.predict(X_test)"
   ]
  },
  {
   "cell_type": "code",
   "execution_count": 30,
   "metadata": {},
   "outputs": [
    {
     "data": {
      "text/plain": [
       "0.325"
      ]
     },
     "execution_count": 30,
     "metadata": {},
     "output_type": "execute_result"
    }
   ],
   "source": [
    "acc = accuracy_score(y_test, y_pred_test)\n",
    "acc"
   ]
  },
  {
   "cell_type": "code",
   "execution_count": 32,
   "metadata": {},
   "outputs": [],
   "source": [
    "results.loc[len(results)] = [\"LR Sklearn\", np.round(acc, 3), round(duration*1000,3) ]"
   ]
  },
  {
   "cell_type": "markdown",
   "metadata": {},
   "source": [
    "## Classification Model using kNN_sklearn"
   ]
  },
  {
   "cell_type": "code",
   "execution_count": 33,
   "metadata": {},
   "outputs": [],
   "source": [
    "model_knn_sklearn = KNeighborsClassifier(n_jobs=-1)"
   ]
  },
  {
   "cell_type": "code",
   "execution_count": 34,
   "metadata": {},
   "outputs": [
    {
     "data": {
      "text/plain": [
       "KNeighborsClassifier(algorithm='auto', leaf_size=30, metric='minkowski',\n",
       "           metric_params=None, n_jobs=-1, n_neighbors=5, p=2,\n",
       "           weights='uniform')"
      ]
     },
     "execution_count": 34,
     "metadata": {},
     "output_type": "execute_result"
    }
   ],
   "source": [
    "# fit the train set into model\n",
    "\n",
    "start = time.time()\n",
    "duration0 =time.time()-start\n",
    "model_knn_sklearn.fit(X_train, y_train)\n"
   ]
  },
  {
   "cell_type": "markdown",
   "metadata": {},
   "source": [
    "## Test Model on Test_set"
   ]
  },
  {
   "cell_type": "code",
   "execution_count": 35,
   "metadata": {},
   "outputs": [],
   "source": [
    "y_pred_test = model_knn_sklearn.predict(X_test)"
   ]
  },
  {
   "cell_type": "code",
   "execution_count": 36,
   "metadata": {},
   "outputs": [
    {
     "name": "stdout",
     "output_type": "stream",
     "text": [
      "0.262\n"
     ]
    }
   ],
   "source": [
    "# Calculate accuracy score\n",
    "acc = accuracy_score(y_test, y_pred_test)\n",
    "print(acc)"
   ]
  },
  {
   "cell_type": "code",
   "execution_count": 37,
   "metadata": {},
   "outputs": [],
   "source": [
    "results.loc[len(results)] = [\"KNN (Arbitary Sklearn)\", np.round(acc, 3), round(duration0*1000,3)]"
   ]
  },
  {
   "cell_type": "markdown",
   "metadata": {},
   "source": [
    "## Cross validation and k-Fold"
   ]
  },
  {
   "cell_type": "code",
   "execution_count": 38,
   "metadata": {},
   "outputs": [],
   "source": [
    "from sklearn.model_selection import KFold\n",
    "kfold = KFold(n_splits=10, shuffle=True, random_state=42)"
   ]
  },
  {
   "cell_type": "code",
   "execution_count": 39,
   "metadata": {
    "scrolled": true
   },
   "outputs": [
    {
     "name": "stdout",
     "output_type": "stream",
     "text": [
      "[CV]  ................................................................\n",
      "[CV] .................................... , score=0.254, total=  22.9s\n",
      "[CV]  ................................................................\n"
     ]
    },
    {
     "name": "stderr",
     "output_type": "stream",
     "text": [
      "[Parallel(n_jobs=1)]: Done   1 out of   1 | elapsed:   22.9s remaining:    0.0s\n"
     ]
    },
    {
     "name": "stdout",
     "output_type": "stream",
     "text": [
      "[CV] .................................... , score=0.272, total=  22.4s\n",
      "[CV]  ................................................................\n"
     ]
    },
    {
     "name": "stderr",
     "output_type": "stream",
     "text": [
      "[Parallel(n_jobs=1)]: Done   2 out of   2 | elapsed:   45.4s remaining:    0.0s\n"
     ]
    },
    {
     "name": "stdout",
     "output_type": "stream",
     "text": [
      "[CV] .................................... , score=0.284, total=  22.7s\n",
      "[CV]  ................................................................\n"
     ]
    },
    {
     "name": "stderr",
     "output_type": "stream",
     "text": [
      "[Parallel(n_jobs=1)]: Done   3 out of   3 | elapsed:  1.1min remaining:    0.0s\n"
     ]
    },
    {
     "name": "stdout",
     "output_type": "stream",
     "text": [
      "[CV] .................................... , score=0.286, total=  22.9s\n",
      "[CV]  ................................................................\n"
     ]
    },
    {
     "name": "stderr",
     "output_type": "stream",
     "text": [
      "[Parallel(n_jobs=1)]: Done   4 out of   4 | elapsed:  1.5min remaining:    0.0s\n"
     ]
    },
    {
     "name": "stdout",
     "output_type": "stream",
     "text": [
      "[CV] .................................... , score=0.302, total=  24.2s\n",
      "[CV]  ................................................................\n",
      "[CV] .................................... , score=0.264, total=  21.7s\n",
      "[CV]  ................................................................\n",
      "[CV] .................................... , score=0.286, total=  23.2s\n",
      "[CV]  ................................................................\n",
      "[CV] .................................... , score=0.236, total=  21.5s\n",
      "[CV]  ................................................................\n",
      "[CV] .................................... , score=0.294, total=  21.6s\n",
      "[CV]  ................................................................\n",
      "[CV] .................................... , score=0.284, total=  22.2s\n"
     ]
    },
    {
     "name": "stderr",
     "output_type": "stream",
     "text": [
      "[Parallel(n_jobs=1)]: Done  10 out of  10 | elapsed:  3.8min finished\n"
     ]
    }
   ],
   "source": [
    "## Baseline Modeling\n",
    "from sklearn.neighbors import KNeighborsClassifier\n",
    "from sklearn.model_selection import cross_val_score\n",
    "import time\n",
    "knn = KNeighborsClassifier()\n",
    "start = time.time()\n",
    "knn_cv = cross_val_score(knn, X_train, y_train, cv=kfold, verbose= 5)\n",
    "duration1 = time.time()-start\n",
    "results.loc[len(results)] = ['KNN (default)', np.round(knn_cv.mean(),3), round(duration1)]"
   ]
  },
  {
   "cell_type": "code",
   "execution_count": 40,
   "metadata": {
    "scrolled": true
   },
   "outputs": [],
   "source": [
    "## Print results from baseline model \n",
    "results.loc[len(results)] = ['KNN (default)', np.round(knn_cv.mean(),3), round(duration1)]\n",
    "\n"
   ]
  },
  {
   "cell_type": "markdown",
   "metadata": {},
   "source": [
    "## Hyperparameter tuning using GridSearch"
   ]
  },
  {
   "cell_type": "code",
   "execution_count": 28,
   "metadata": {
    "scrolled": true
   },
   "outputs": [
    {
     "name": "stdout",
     "output_type": "stream",
     "text": [
      "[1, 2, 3, 4, 5]\n"
     ]
    }
   ],
   "source": [
    "from sklearn.neighbors import  KNeighborsClassifier\n",
    "knn = KNeighborsClassifier(n_neighbors=5)\n",
    "k_range = list(range(1, 6))\n",
    "print(k_range)"
   ]
  },
  {
   "cell_type": "code",
   "execution_count": 29,
   "metadata": {
    "scrolled": true
   },
   "outputs": [
    {
     "name": "stdout",
     "output_type": "stream",
     "text": [
      "{'p': [1, 2], 'n_neighbors': [1, 2, 3, 4, 5]}\n"
     ]
    }
   ],
   "source": [
    "# Parameter selection\n",
    "p_range = list(range(1,3))\n",
    "param_grid = dict(n_neighbors=k_range, p =p_range)\n",
    "print(param_grid)"
   ]
  },
  {
   "cell_type": "markdown",
   "metadata": {},
   "source": [
    "## Initiate Grid Search"
   ]
  },
  {
   "cell_type": "code",
   "execution_count": 30,
   "metadata": {
    "scrolled": true
   },
   "outputs": [
    {
     "name": "stdout",
     "output_type": "stream",
     "text": [
      "Fitting 5 folds for each of 10 candidates, totalling 50 fits\n",
      "[CV] p=1, n_neighbors=1 ..............................................\n",
      "[CV] .................. p=1, n_neighbors=1, score=0.302, total=  43.4s\n",
      "[CV] p=1, n_neighbors=1 ..............................................\n"
     ]
    },
    {
     "name": "stderr",
     "output_type": "stream",
     "text": [
      "[Parallel(n_jobs=-1)]: Done   1 out of   1 | elapsed:   49.9s remaining:    0.0s\n"
     ]
    },
    {
     "name": "stdout",
     "output_type": "stream",
     "text": [
      "[CV] .................. p=1, n_neighbors=1, score=0.302, total=  41.9s\n",
      "[CV] p=1, n_neighbors=1 ..............................................\n"
     ]
    },
    {
     "name": "stderr",
     "output_type": "stream",
     "text": [
      "[Parallel(n_jobs=-1)]: Done   2 out of   2 | elapsed:  1.6min remaining:    0.0s\n"
     ]
    },
    {
     "name": "stdout",
     "output_type": "stream",
     "text": [
      "[CV] .................. p=1, n_neighbors=1, score=0.287, total=  41.4s\n",
      "[CV] p=1, n_neighbors=1 ..............................................\n"
     ]
    },
    {
     "name": "stderr",
     "output_type": "stream",
     "text": [
      "[Parallel(n_jobs=-1)]: Done   3 out of   3 | elapsed:  2.4min remaining:    0.0s\n"
     ]
    },
    {
     "name": "stdout",
     "output_type": "stream",
     "text": [
      "[CV] .................. p=1, n_neighbors=1, score=0.274, total=  43.4s\n",
      "[CV] p=1, n_neighbors=1 ..............................................\n"
     ]
    },
    {
     "name": "stderr",
     "output_type": "stream",
     "text": [
      "[Parallel(n_jobs=-1)]: Done   4 out of   4 | elapsed:  3.3min remaining:    0.0s\n"
     ]
    },
    {
     "name": "stdout",
     "output_type": "stream",
     "text": [
      "[CV] .................. p=1, n_neighbors=1, score=0.285, total=  47.3s\n",
      "[CV] p=2, n_neighbors=1 ..............................................\n",
      "[CV] .................. p=2, n_neighbors=1, score=0.284, total=  49.2s\n",
      "[CV] p=2, n_neighbors=1 ..............................................\n",
      "[CV] .................. p=2, n_neighbors=1, score=0.295, total=  48.7s\n",
      "[CV] p=2, n_neighbors=1 ..............................................\n",
      "[CV] .................. p=2, n_neighbors=1, score=0.274, total=  48.7s\n",
      "[CV] p=2, n_neighbors=1 ..............................................\n",
      "[CV] .................. p=2, n_neighbors=1, score=0.269, total=  49.4s\n",
      "[CV] p=2, n_neighbors=1 ..............................................\n",
      "[CV] .................. p=2, n_neighbors=1, score=0.267, total=  48.3s\n",
      "[CV] p=1, n_neighbors=2 ..............................................\n",
      "[CV] .................. p=1, n_neighbors=2, score=0.273, total=  42.0s\n",
      "[CV] p=1, n_neighbors=2 ..............................................\n",
      "[CV] .................. p=1, n_neighbors=2, score=0.268, total=  53.3s\n",
      "[CV] p=1, n_neighbors=2 ..............................................\n",
      "[CV] .................. p=1, n_neighbors=2, score=0.262, total=  53.1s\n",
      "[CV] p=1, n_neighbors=2 ..............................................\n",
      "[CV] .................. p=1, n_neighbors=2, score=0.244, total=  40.3s\n",
      "[CV] p=1, n_neighbors=2 ..............................................\n",
      "[CV] .................. p=1, n_neighbors=2, score=0.254, total=  56.4s\n",
      "[CV] p=2, n_neighbors=2 ..............................................\n",
      "[CV] .................. p=2, n_neighbors=2, score=0.242, total=  47.6s\n",
      "[CV] p=2, n_neighbors=2 ..............................................\n",
      "[CV] .................. p=2, n_neighbors=2, score=0.246, total=  46.9s\n",
      "[CV] p=2, n_neighbors=2 ..............................................\n",
      "[CV] ................... p=2, n_neighbors=2, score=0.25, total=  58.9s\n",
      "[CV] p=2, n_neighbors=2 ..............................................\n",
      "[CV] .................. p=2, n_neighbors=2, score=0.232, total=  57.4s\n",
      "[CV] p=2, n_neighbors=2 ..............................................\n",
      "[CV] .................. p=2, n_neighbors=2, score=0.249, total=  42.8s\n",
      "[CV] p=1, n_neighbors=3 ..............................................\n",
      "[CV] .................. p=1, n_neighbors=3, score=0.285, total=  48.1s\n",
      "[CV] p=1, n_neighbors=3 ..............................................\n",
      "[CV] .................. p=1, n_neighbors=3, score=0.292, total=  41.5s\n",
      "[CV] p=1, n_neighbors=3 ..............................................\n",
      "[CV] .................. p=1, n_neighbors=3, score=0.308, total=  42.2s\n",
      "[CV] p=1, n_neighbors=3 ..............................................\n",
      "[CV] .................. p=1, n_neighbors=3, score=0.257, total=  51.3s\n",
      "[CV] p=1, n_neighbors=3 ..............................................\n",
      "[CV] .................. p=1, n_neighbors=3, score=0.276, total=  48.7s\n",
      "[CV] p=2, n_neighbors=3 ..............................................\n",
      "[CV] .................. p=2, n_neighbors=3, score=0.267, total= 1.0min\n",
      "[CV] p=2, n_neighbors=3 ..............................................\n",
      "[CV] .................. p=2, n_neighbors=3, score=0.271, total=  54.1s\n",
      "[CV] p=2, n_neighbors=3 ..............................................\n",
      "[CV] .................. p=2, n_neighbors=3, score=0.284, total=  50.2s\n",
      "[CV] p=2, n_neighbors=3 ..............................................\n",
      "[CV] .................. p=2, n_neighbors=3, score=0.247, total=  55.5s\n",
      "[CV] p=2, n_neighbors=3 ..............................................\n",
      "[CV] .................. p=2, n_neighbors=3, score=0.262, total= 1.2min\n",
      "[CV] p=1, n_neighbors=4 ..............................................\n",
      "[CV] .................. p=1, n_neighbors=4, score=0.295, total=  53.4s\n",
      "[CV] p=1, n_neighbors=4 ..............................................\n",
      "[CV] .................. p=1, n_neighbors=4, score=0.304, total=  47.9s\n",
      "[CV] p=1, n_neighbors=4 ..............................................\n",
      "[CV] ................... p=1, n_neighbors=4, score=0.31, total=  41.2s\n",
      "[CV] p=1, n_neighbors=4 ..............................................\n",
      "[CV] .................. p=1, n_neighbors=4, score=0.283, total=  41.3s\n",
      "[CV] p=1, n_neighbors=4 ..............................................\n",
      "[CV] .................. p=1, n_neighbors=4, score=0.288, total=  41.1s\n",
      "[CV] p=2, n_neighbors=4 ..............................................\n",
      "[CV] .................. p=2, n_neighbors=4, score=0.268, total=  41.2s\n",
      "[CV] p=2, n_neighbors=4 ..............................................\n",
      "[CV] .................. p=2, n_neighbors=4, score=0.284, total=  40.2s\n",
      "[CV] p=2, n_neighbors=4 ..............................................\n",
      "[CV] .................. p=2, n_neighbors=4, score=0.289, total=  47.7s\n",
      "[CV] p=2, n_neighbors=4 ..............................................\n",
      "[CV] .................. p=2, n_neighbors=4, score=0.257, total=  51.2s\n",
      "[CV] p=2, n_neighbors=4 ..............................................\n",
      "[CV] .................. p=2, n_neighbors=4, score=0.275, total=  54.5s\n",
      "[CV] p=1, n_neighbors=5 ..............................................\n",
      "[CV] .................. p=1, n_neighbors=5, score=0.316, total=  57.1s\n",
      "[CV] p=1, n_neighbors=5 ..............................................\n",
      "[CV] .................. p=1, n_neighbors=5, score=0.309, total=  55.1s\n",
      "[CV] p=1, n_neighbors=5 ..............................................\n",
      "[CV] .................. p=1, n_neighbors=5, score=0.323, total=  52.7s\n",
      "[CV] p=1, n_neighbors=5 ..............................................\n",
      "[CV] .................. p=1, n_neighbors=5, score=0.286, total=  47.3s\n",
      "[CV] p=1, n_neighbors=5 ..............................................\n",
      "[CV] .................. p=1, n_neighbors=5, score=0.296, total=  49.9s\n",
      "[CV] p=2, n_neighbors=5 ..............................................\n",
      "[CV] .................. p=2, n_neighbors=5, score=0.269, total=  45.9s\n",
      "[CV] p=2, n_neighbors=5 ..............................................\n",
      "[CV] .................. p=2, n_neighbors=5, score=0.282, total=  50.9s\n",
      "[CV] p=2, n_neighbors=5 ..............................................\n",
      "[CV] .................. p=2, n_neighbors=5, score=0.292, total=  45.2s\n",
      "[CV] p=2, n_neighbors=5 ..............................................\n",
      "[CV] ................... p=2, n_neighbors=5, score=0.25, total=  48.5s\n",
      "[CV] p=2, n_neighbors=5 ..............................................\n",
      "[CV] .................. p=2, n_neighbors=5, score=0.269, total=  52.3s\n"
     ]
    },
    {
     "name": "stderr",
     "output_type": "stream",
     "text": [
      "[Parallel(n_jobs=-1)]: Done  50 out of  50 | elapsed: 173.8min finished\n"
     ]
    },
    {
     "data": {
      "text/plain": [
       "GridSearchCV(cv=5, error_score='raise',\n",
       "       estimator=KNeighborsClassifier(algorithm='auto', leaf_size=30, metric='minkowski',\n",
       "           metric_params=None, n_jobs=1, n_neighbors=5, p=2,\n",
       "           weights='uniform'),\n",
       "       fit_params=None, iid=True, n_jobs=-1,\n",
       "       param_grid={'p': [1, 2], 'n_neighbors': [1, 2, 3, 4, 5]},\n",
       "       pre_dispatch='2*n_jobs', refit=True, return_train_score='warn',\n",
       "       scoring='accuracy', verbose=5)"
      ]
     },
     "execution_count": 30,
     "metadata": {},
     "output_type": "execute_result"
    }
   ],
   "source": [
    "best_model = GridSearchCV(knn, param_grid, cv=5, refit = True, scoring='accuracy', verbose=5, n_jobs=-1)\n",
    "best_model.fit(X_train, y_train)"
   ]
  },
  {
   "cell_type": "markdown",
   "metadata": {},
   "source": [
    "## Save best model from GridSearch"
   ]
  },
  {
   "cell_type": "code",
   "execution_count": null,
   "metadata": {},
   "outputs": [],
   "source": [
    "from sklearn.externals import joblib\n",
    "joblib.dump(best_model, 'GSmodel.pkl')"
   ]
  },
  {
   "cell_type": "markdown",
   "metadata": {},
   "source": [
    "## Reload Model\n"
   ]
  },
  {
   "cell_type": "code",
   "execution_count": 30,
   "metadata": {},
   "outputs": [],
   "source": [
    "from sklearn.externals import joblib  \n",
    "best_model = joblib.load('GSmodel.pkl') "
   ]
  },
  {
   "cell_type": "markdown",
   "metadata": {},
   "source": [
    "## Evaluate Model Using Best Estimators"
   ]
  },
  {
   "cell_type": "code",
   "execution_count": 31,
   "metadata": {},
   "outputs": [],
   "source": [
    "knn = best_model.best_estimator_\n",
    "start = time.time()\n",
    "knn_cv = cross_val_score(knn, X_train, y_train, cv=kfold)\n",
    "duration = time.time()-start"
   ]
  },
  {
   "cell_type": "code",
   "execution_count": 32,
   "metadata": {},
   "outputs": [],
   "source": [
    "results.loc[len(results)] = ['KNN (grid search)', np.round(knn_cv.mean(),3), round(duration*1000, 3)]"
   ]
  },
  {
   "cell_type": "code",
   "execution_count": 33,
   "metadata": {
    "scrolled": true
   },
   "outputs": [
    {
     "name": "stdout",
     "output_type": "stream",
     "text": [
      "1\n",
      "5\n"
     ]
    }
   ],
   "source": [
    "best_p = best_model.best_params_[\"p\"]\n",
    "best_n = best_model.best_params_[\"n_neighbors\"]\n",
    "print(best_p)\n",
    "print(best_n)"
   ]
  },
  {
   "cell_type": "code",
   "execution_count": 32,
   "metadata": {
    "scrolled": true
   },
   "outputs": [
    {
     "name": "stderr",
     "output_type": "stream",
     "text": [
      "/opt/conda/lib/python3.5/site-packages/sklearn/utils/deprecation.py:122: FutureWarning: You are accessing a training score ('mean_train_score'), which will not be available by default any more in 0.21. If you need training scores, please set return_train_score=True\n",
      "  warnings.warn(*warn_args, **warn_kwargs)\n",
      "/opt/conda/lib/python3.5/site-packages/sklearn/utils/deprecation.py:122: FutureWarning: You are accessing a training score ('split0_train_score'), which will not be available by default any more in 0.21. If you need training scores, please set return_train_score=True\n",
      "  warnings.warn(*warn_args, **warn_kwargs)\n",
      "/opt/conda/lib/python3.5/site-packages/sklearn/utils/deprecation.py:122: FutureWarning: You are accessing a training score ('split1_train_score'), which will not be available by default any more in 0.21. If you need training scores, please set return_train_score=True\n",
      "  warnings.warn(*warn_args, **warn_kwargs)\n",
      "/opt/conda/lib/python3.5/site-packages/sklearn/utils/deprecation.py:122: FutureWarning: You are accessing a training score ('split2_train_score'), which will not be available by default any more in 0.21. If you need training scores, please set return_train_score=True\n",
      "  warnings.warn(*warn_args, **warn_kwargs)\n",
      "/opt/conda/lib/python3.5/site-packages/sklearn/utils/deprecation.py:122: FutureWarning: You are accessing a training score ('split3_train_score'), which will not be available by default any more in 0.21. If you need training scores, please set return_train_score=True\n",
      "  warnings.warn(*warn_args, **warn_kwargs)\n",
      "/opt/conda/lib/python3.5/site-packages/sklearn/utils/deprecation.py:122: FutureWarning: You are accessing a training score ('split4_train_score'), which will not be available by default any more in 0.21. If you need training scores, please set return_train_score=True\n",
      "  warnings.warn(*warn_args, **warn_kwargs)\n",
      "/opt/conda/lib/python3.5/site-packages/sklearn/utils/deprecation.py:122: FutureWarning: You are accessing a training score ('std_train_score'), which will not be available by default any more in 0.21. If you need training scores, please set return_train_score=True\n",
      "  warnings.warn(*warn_args, **warn_kwargs)\n"
     ]
    },
    {
     "data": {
      "text/plain": [
       "{'mean_fit_time': array([0.72402353, 0.79517589, 0.81742916, 0.76887598, 0.79880114,\n",
       "        0.81181822, 0.68918967, 0.88188038, 0.79860711, 0.72295108]),\n",
       " 'mean_score_time': array([42.75791564, 48.07296529, 48.19962239, 49.93134274, 45.59377375,\n",
       "        57.67779193, 44.29446926, 46.0939178 , 51.63585567, 47.84672818]),\n",
       " 'mean_test_score': array([0.29  , 0.2778, 0.2602, 0.2438, 0.2836, 0.2662, 0.296 , 0.2746,\n",
       "        0.306 , 0.2724]),\n",
       " 'mean_train_score': array([1.     , 1.     , 0.60035, 0.5983 , 0.5515 , 0.5325 , 0.51515,\n",
       "        0.4943 , 0.48845, 0.4536 ]),\n",
       " 'param_n_neighbors': masked_array(data=[1, 1, 2, 2, 3, 3, 4, 4, 5, 5],\n",
       "              mask=[False, False, False, False, False, False, False, False,\n",
       "                    False, False],\n",
       "        fill_value='?',\n",
       "             dtype=object),\n",
       " 'param_p': masked_array(data=[1, 2, 1, 2, 1, 2, 1, 2, 1, 2],\n",
       "              mask=[False, False, False, False, False, False, False, False,\n",
       "                    False, False],\n",
       "        fill_value='?',\n",
       "             dtype=object),\n",
       " 'params': [{'n_neighbors': 1, 'p': 1},\n",
       "  {'n_neighbors': 1, 'p': 2},\n",
       "  {'n_neighbors': 2, 'p': 1},\n",
       "  {'n_neighbors': 2, 'p': 2},\n",
       "  {'n_neighbors': 3, 'p': 1},\n",
       "  {'n_neighbors': 3, 'p': 2},\n",
       "  {'n_neighbors': 4, 'p': 1},\n",
       "  {'n_neighbors': 4, 'p': 2},\n",
       "  {'n_neighbors': 5, 'p': 1},\n",
       "  {'n_neighbors': 5, 'p': 2}],\n",
       " 'rank_test_score': array([ 3,  5,  9, 10,  4,  8,  2,  6,  1,  7], dtype=int32),\n",
       " 'split0_test_score': array([0.302, 0.284, 0.273, 0.242, 0.285, 0.267, 0.295, 0.268, 0.316,\n",
       "        0.269]),\n",
       " 'split0_train_score': array([1.     , 1.     , 0.598  , 0.59875, 0.54825, 0.54025, 0.511  ,\n",
       "        0.495  , 0.4975 , 0.4575 ]),\n",
       " 'split1_test_score': array([0.302, 0.295, 0.268, 0.246, 0.292, 0.271, 0.304, 0.284, 0.309,\n",
       "        0.282]),\n",
       " 'split1_train_score': array([1.     , 1.     , 0.59275, 0.59325, 0.54175, 0.5245 , 0.5085 ,\n",
       "        0.4925 , 0.48175, 0.44725]),\n",
       " 'split2_test_score': array([0.287, 0.274, 0.262, 0.25 , 0.308, 0.284, 0.31 , 0.289, 0.323,\n",
       "        0.292]),\n",
       " 'split2_train_score': array([1.     , 1.     , 0.601  , 0.597  , 0.55675, 0.5285 , 0.52025,\n",
       "        0.49125, 0.484  , 0.4485 ]),\n",
       " 'split3_test_score': array([0.274, 0.269, 0.244, 0.232, 0.257, 0.247, 0.283, 0.257, 0.286,\n",
       "        0.25 ]),\n",
       " 'split3_train_score': array([1.     , 1.     , 0.6015 , 0.59425, 0.552  , 0.53275, 0.51275,\n",
       "        0.49125, 0.484  , 0.45575]),\n",
       " 'split4_test_score': array([0.285, 0.267, 0.254, 0.249, 0.276, 0.262, 0.288, 0.275, 0.296,\n",
       "        0.269]),\n",
       " 'split4_train_score': array([1.     , 1.     , 0.6085 , 0.60825, 0.55875, 0.5365 , 0.52325,\n",
       "        0.5015 , 0.495  , 0.459  ]),\n",
       " 'std_fit_time': array([0.08760527, 0.08409246, 0.21190514, 0.10968962, 0.12264954,\n",
       "        0.16074541, 0.05870959, 0.29358395, 0.15859112, 0.07775168]),\n",
       " 'std_score_time': array([2.07673471, 0.44679945, 6.43535639, 6.26857912, 3.72233156,\n",
       "        7.74787631, 4.88818314, 5.30626407, 3.35720645, 2.72354655]),\n",
       " 'std_test_score': array([0.01075174, 0.01041921, 0.01028397, 0.0065238 , 0.01693045,\n",
       "        0.01205653, 0.00993982, 0.01139474, 0.01340149, 0.01415062]),\n",
       " 'std_train_score': array([0.        , 0.        , 0.00512738, 0.00534416, 0.00609918,\n",
       "        0.00558793, 0.00563604, 0.00385162, 0.00646993, 0.0048026 ])}"
      ]
     },
     "execution_count": 32,
     "metadata": {},
     "output_type": "execute_result"
    }
   ],
   "source": [
    "best_model.cv_results_"
   ]
  },
  {
   "cell_type": "code",
   "execution_count": 33,
   "metadata": {},
   "outputs": [
    {
     "name": "stderr",
     "output_type": "stream",
     "text": [
      "/opt/conda/lib/python3.5/site-packages/sklearn/model_selection/_search.py:761: DeprecationWarning: The grid_scores_ attribute was deprecated in version 0.18 in favor of the more elaborate cv_results_ attribute. The grid_scores_ attribute will not be available from 0.20\n",
      "  DeprecationWarning)\n"
     ]
    },
    {
     "data": {
      "text/plain": [
       "[mean: 0.29000, std: 0.01075, params: {'p': 1, 'n_neighbors': 1},\n",
       " mean: 0.27780, std: 0.01042, params: {'p': 2, 'n_neighbors': 1},\n",
       " mean: 0.26020, std: 0.01028, params: {'p': 1, 'n_neighbors': 2},\n",
       " mean: 0.24380, std: 0.00652, params: {'p': 2, 'n_neighbors': 2},\n",
       " mean: 0.28360, std: 0.01693, params: {'p': 1, 'n_neighbors': 3},\n",
       " mean: 0.26620, std: 0.01206, params: {'p': 2, 'n_neighbors': 3},\n",
       " mean: 0.29600, std: 0.00994, params: {'p': 1, 'n_neighbors': 4},\n",
       " mean: 0.27460, std: 0.01139, params: {'p': 2, 'n_neighbors': 4},\n",
       " mean: 0.30600, std: 0.01340, params: {'p': 1, 'n_neighbors': 5},\n",
       " mean: 0.27240, std: 0.01415, params: {'p': 2, 'n_neighbors': 5}]"
      ]
     },
     "execution_count": 33,
     "metadata": {},
     "output_type": "execute_result"
    }
   ],
   "source": [
    "best_model.grid_scores_"
   ]
  },
  {
   "cell_type": "markdown",
   "metadata": {},
   "source": [
    "## Visualize mean test scores and best parameters"
   ]
  },
  {
   "cell_type": "code",
   "execution_count": 36,
   "metadata": {},
   "outputs": [
    {
     "name": "stderr",
     "output_type": "stream",
     "text": [
      "/opt/conda/lib/python3.5/site-packages/matplotlib/cbook/deprecation.py:107: MatplotlibDeprecationWarning: Passing one of 'on', 'true', 'off', 'false' as a boolean is deprecated; use an actual boolean (True/False) instead.\n",
      "  warnings.warn(message, mplDeprecation, stacklevel=1)\n"
     ]
    },
    {
     "data": {
      "image/png": "[encoded data removed]",
      "text/plain": [
       "<Figure size 576x360 with 2 Axes>"
      ]
     },
     "metadata": {},
     "output_type": "display_data"
    }
   ],
   "source": [
    "plt.figure(figsize=(8, 5))\n",
    "sc = plt.scatter(best_model.cv_results_[\"param_n_neighbors\"], \n",
    "                 best_model.cv_results_[\"param_p\"], \n",
    "                 c=best_model.cv_results_[\"mean_test_score\"], \n",
    "                 cmap = plt.get_cmap(\"RdYlBu_r\"), \n",
    "                 s=1500)\n",
    "plt.colorbar(sc)\n",
    "plt.grid(\"on\")\n",
    "plt.gca().set_axisbelow(True)\n",
    "plt.xlabel(\"Number of neighbors\")\n",
    "plt.ylabel(\"p\")\n",
    "plt.title(\"Dependency of accuracy on parameters\")\n",
    "plt.xlim([0, 6])\n",
    "plt.ylim([0.5, 3.5]);"
   ]
  },
  {
   "cell_type": "code",
   "execution_count": 83,
   "metadata": {},
   "outputs": [],
   "source": [
    "knn = best_model.best_estimator_\n",
    "start = time.time()\n",
    "knn_cv = cross_val_score(knn, X_train, y_train, cv=kfold)\n",
    "duration = time.time()-start"
   ]
  },
  {
   "cell_type": "markdown",
   "metadata": {},
   "source": [
    "## Print mean Test Score for Best Model"
   ]
  },
  {
   "cell_type": "code",
   "execution_count": 47,
   "metadata": {},
   "outputs": [
    {
     "data": {
      "text/plain": [
       "(array([0.29  , 0.2778, 0.2602, 0.2438, 0.2836, 0.2662, 0.296 , 0.2746,\n",
       "        0.306 , 0.2724]),)"
      ]
     },
     "execution_count": 47,
     "metadata": {},
     "output_type": "execute_result"
    }
   ],
   "source": [
    "best_model.cv_results_[\"mean_test_score\"],"
   ]
  },
  {
   "cell_type": "markdown",
   "metadata": {},
   "source": [
    "## Evaluate Model with best parameters using Test data"
   ]
  },
  {
   "cell_type": "code",
   "execution_count": 34,
   "metadata": {},
   "outputs": [],
   "source": [
    "from sklearn.metrics import accuracy_score\n",
    "knn = best_model.best_estimator_\n",
    "start = time.time()\n",
    "y_preds = knn.predict(X_test)\n",
    "score = accuracy_score(y_test, y_preds)\n",
    "duration2 = time.time()-start"
   ]
  },
  {
   "cell_type": "code",
   "execution_count": 35,
   "metadata": {},
   "outputs": [
    {
     "data": {
      "text/plain": [
       "0.286"
      ]
     },
     "execution_count": 35,
     "metadata": {},
     "output_type": "execute_result"
    }
   ],
   "source": [
    "score"
   ]
  },
  {
   "cell_type": "markdown",
   "metadata": {},
   "source": [
    "## Print Results for Classification Model"
   ]
  },
  {
   "cell_type": "code",
   "execution_count": 36,
   "metadata": {},
   "outputs": [],
   "source": [
    "results.loc[len(results)] = ['KNN (best model test)', score, round(duration*1000, 3)]\n"
   ]
  },
  {
   "cell_type": "code",
   "execution_count": 58,
   "metadata": {},
   "outputs": [
    {
     "data": {
      "text/html": [
       "<div>\n",
       "<style scoped>\n",
       "    .dataframe tbody tr th:only-of-type {\n",
       "        vertical-align: middle;\n",
       "    }\n",
       "\n",
       "    .dataframe tbody tr th {\n",
       "        vertical-align: top;\n",
       "    }\n",
       "\n",
       "    .dataframe thead th {\n",
       "        text-align: right;\n",
       "    }\n",
       "</style>\n",
       "<table border=\"1\" class=\"dataframe\">\n",
       "  <thead>\n",
       "    <tr style=\"text-align: right;\">\n",
       "      <th></th>\n",
       "      <th>Model</th>\n",
       "      <th>Test Accuracy</th>\n",
       "      <th>Runtime(ms)</th>\n",
       "    </tr>\n",
       "  </thead>\n",
       "  <tbody>\n",
       "    <tr>\n",
       "      <th>0</th>\n",
       "      <td>KNN Arbitary Sklearn</td>\n",
       "      <td>0.262</td>\n",
       "      <td>56990.786</td>\n",
       "    </tr>\n",
       "    <tr>\n",
       "      <th>1</th>\n",
       "      <td>KNN Arbitary Sklearn</td>\n",
       "      <td>0.262</td>\n",
       "      <td>56990.786</td>\n",
       "    </tr>\n",
       "    <tr>\n",
       "      <th>2</th>\n",
       "      <td>KNN (grid search)</td>\n",
       "      <td>0.315</td>\n",
       "      <td>56990.786</td>\n",
       "    </tr>\n",
       "    <tr>\n",
       "      <th>3</th>\n",
       "      <td>KNN (best model test)</td>\n",
       "      <td>0.286</td>\n",
       "      <td>56990.786</td>\n",
       "    </tr>\n",
       "  </tbody>\n",
       "</table>\n",
       "</div>"
      ],
      "text/plain": [
       "                   Model  Test Accuracy  Runtime(ms)\n",
       "0   KNN Arbitary Sklearn          0.262    56990.786\n",
       "1   KNN Arbitary Sklearn          0.262    56990.786\n",
       "2      KNN (grid search)          0.315    56990.786\n",
       "3  KNN (best model test)          0.286    56990.786"
      ]
     },
     "execution_count": 58,
     "metadata": {},
     "output_type": "execute_result"
    }
   ],
   "source": [
    "results"
   ]
  },
  {
   "cell_type": "markdown",
   "metadata": {},
   "source": [
    "# Weighted KNN\n"
   ]
  },
  {
   "cell_type": "code",
   "execution_count": 37,
   "metadata": {
    "scrolled": true
   },
   "outputs": [],
   "source": [
    "model_knn_weighted_sklearn = KNeighborsClassifier(n_jobs=-1, weights=\"distance\", p=1, n_neighbors=5)"
   ]
  },
  {
   "cell_type": "code",
   "execution_count": 41,
   "metadata": {},
   "outputs": [],
   "source": [
    "model_knn_weighted_sklearn.fit(X_train, y_train)\n",
    "Wduration = time.time()-start"
   ]
  },
  {
   "cell_type": "code",
   "execution_count": 39,
   "metadata": {},
   "outputs": [],
   "source": [
    "y_pred_test = model_knn_weighted_sklearn.predict(X_test)"
   ]
  },
  {
   "cell_type": "code",
   "execution_count": 40,
   "metadata": {},
   "outputs": [
    {
     "data": {
      "text/plain": [
       "0.299"
      ]
     },
     "execution_count": 40,
     "metadata": {},
     "output_type": "execute_result"
    }
   ],
   "source": [
    "accuracy = accuracy_score(y_test, y_pred_test)\n",
    "accuracy"
   ]
  },
  {
   "cell_type": "code",
   "execution_count": 42,
   "metadata": {},
   "outputs": [],
   "source": [
    "results.loc[len(results)] = [\"KNN Weighted Sklearn\", np.round(accuracy, 3), round(Wduration*1000,3)]\n"
   ]
  },
  {
   "cell_type": "markdown",
   "metadata": {},
   "source": [
    "## Grid Search on Weighted KNN"
   ]
  },
  {
   "cell_type": "code",
   "execution_count": 21,
   "metadata": {},
   "outputs": [],
   "source": [
    "knn_weighted = KNeighborsClassifier(n_neighbors=5)\n",
    "params = {'n_neighbors': list(range(1,6)),\n",
    "          'weights': ['distance'],\n",
    "          'p': list(range(1,3))}"
   ]
  },
  {
   "cell_type": "code",
   "execution_count": 22,
   "metadata": {},
   "outputs": [
    {
     "name": "stdout",
     "output_type": "stream",
     "text": [
      "Fitting 5 folds for each of 10 candidates, totalling 50 fits\n",
      "[CV] n_neighbors=1, weights=distance, p=1 ............................\n",
      "[CV]  n_neighbors=1, weights=distance, p=1, score=0.302, total=  42.0s\n",
      "[CV] n_neighbors=1, weights=distance, p=1 ............................\n"
     ]
    },
    {
     "name": "stderr",
     "output_type": "stream",
     "text": [
      "[Parallel(n_jobs=-1)]: Done   1 out of   1 | elapsed:   48.5s remaining:    0.0s\n"
     ]
    },
    {
     "name": "stdout",
     "output_type": "stream",
     "text": [
      "[CV]  n_neighbors=1, weights=distance, p=1, score=0.302, total=  40.8s\n",
      "[CV] n_neighbors=1, weights=distance, p=1 ............................\n"
     ]
    },
    {
     "name": "stderr",
     "output_type": "stream",
     "text": [
      "[Parallel(n_jobs=-1)]: Done   2 out of   2 | elapsed:  1.6min remaining:    0.0s\n"
     ]
    },
    {
     "name": "stdout",
     "output_type": "stream",
     "text": [
      "[CV]  n_neighbors=1, weights=distance, p=1, score=0.287, total=  40.1s\n",
      "[CV] n_neighbors=1, weights=distance, p=1 ............................\n"
     ]
    },
    {
     "name": "stderr",
     "output_type": "stream",
     "text": [
      "[Parallel(n_jobs=-1)]: Done   3 out of   3 | elapsed:  2.4min remaining:    0.0s\n"
     ]
    },
    {
     "name": "stdout",
     "output_type": "stream",
     "text": [
      "[CV]  n_neighbors=1, weights=distance, p=1, score=0.274, total=  40.4s\n",
      "[CV] n_neighbors=1, weights=distance, p=1 ............................\n"
     ]
    },
    {
     "name": "stderr",
     "output_type": "stream",
     "text": [
      "[Parallel(n_jobs=-1)]: Done   4 out of   4 | elapsed:  3.2min remaining:    0.0s\n"
     ]
    },
    {
     "name": "stdout",
     "output_type": "stream",
     "text": [
      "[CV]  n_neighbors=1, weights=distance, p=1, score=0.285, total=  40.9s\n",
      "[CV] n_neighbors=1, weights=distance, p=2 ............................\n",
      "[CV]  n_neighbors=1, weights=distance, p=2, score=0.284, total=  41.0s\n",
      "[CV] n_neighbors=1, weights=distance, p=2 ............................\n",
      "[CV]  n_neighbors=1, weights=distance, p=2, score=0.295, total=  49.5s\n",
      "[CV] n_neighbors=1, weights=distance, p=2 ............................\n",
      "[CV]  n_neighbors=1, weights=distance, p=2, score=0.274, total=  44.1s\n",
      "[CV] n_neighbors=1, weights=distance, p=2 ............................\n",
      "[CV]  n_neighbors=1, weights=distance, p=2, score=0.269, total=  44.5s\n",
      "[CV] n_neighbors=1, weights=distance, p=2 ............................\n",
      "[CV]  n_neighbors=1, weights=distance, p=2, score=0.267, total=  50.2s\n",
      "[CV] n_neighbors=2, weights=distance, p=1 ............................\n",
      "[CV]  n_neighbors=2, weights=distance, p=1, score=0.302, total=  42.1s\n",
      "[CV] n_neighbors=2, weights=distance, p=1 ............................\n",
      "[CV]  n_neighbors=2, weights=distance, p=1, score=0.302, total=  40.3s\n",
      "[CV] n_neighbors=2, weights=distance, p=1 ............................\n",
      "[CV]  n_neighbors=2, weights=distance, p=1, score=0.287, total=  40.8s\n",
      "[CV] n_neighbors=2, weights=distance, p=1 ............................\n",
      "[CV]  n_neighbors=2, weights=distance, p=1, score=0.274, total=  40.2s\n",
      "[CV] n_neighbors=2, weights=distance, p=1 ............................\n",
      "[CV]  n_neighbors=2, weights=distance, p=1, score=0.285, total=  40.6s\n",
      "[CV] n_neighbors=2, weights=distance, p=2 ............................\n",
      "[CV]  n_neighbors=2, weights=distance, p=2, score=0.284, total=  40.8s\n",
      "[CV] n_neighbors=2, weights=distance, p=2 ............................\n",
      "[CV]  n_neighbors=2, weights=distance, p=2, score=0.295, total=  40.1s\n",
      "[CV] n_neighbors=2, weights=distance, p=2 ............................\n",
      "[CV]  n_neighbors=2, weights=distance, p=2, score=0.274, total=  40.1s\n",
      "[CV] n_neighbors=2, weights=distance, p=2 ............................\n",
      "[CV]  n_neighbors=2, weights=distance, p=2, score=0.269, total=  40.7s\n",
      "[CV] n_neighbors=2, weights=distance, p=2 ............................\n",
      "[CV]  n_neighbors=2, weights=distance, p=2, score=0.267, total=  39.9s\n",
      "[CV] n_neighbors=3, weights=distance, p=1 ............................\n",
      "[CV]  n_neighbors=3, weights=distance, p=1, score=0.313, total=  42.4s\n",
      "[CV] n_neighbors=3, weights=distance, p=1 ............................\n",
      "[CV]  n_neighbors=3, weights=distance, p=1, score=0.316, total=  40.6s\n",
      "[CV] n_neighbors=3, weights=distance, p=1 ............................\n",
      "[CV]  n_neighbors=3, weights=distance, p=1, score=0.312, total=  40.0s\n",
      "[CV] n_neighbors=3, weights=distance, p=1 ............................\n",
      "[CV]  n_neighbors=3, weights=distance, p=1, score=0.278, total=  40.1s\n",
      "[CV] n_neighbors=3, weights=distance, p=1 ............................\n",
      "[CV]  n_neighbors=3, weights=distance, p=1, score=0.294, total=  40.0s\n",
      "[CV] n_neighbors=3, weights=distance, p=2 ............................\n",
      "[CV]  n_neighbors=3, weights=distance, p=2, score=0.284, total=  40.5s\n",
      "[CV] n_neighbors=3, weights=distance, p=2 ............................\n",
      "[CV]  n_neighbors=3, weights=distance, p=2, score=0.304, total=  40.1s\n",
      "[CV] n_neighbors=3, weights=distance, p=2 ............................\n",
      "[CV]  n_neighbors=3, weights=distance, p=2, score=0.289, total=  40.3s\n",
      "[CV] n_neighbors=3, weights=distance, p=2 ............................\n",
      "[CV]  n_neighbors=3, weights=distance, p=2, score=0.273, total=  40.9s\n",
      "[CV] n_neighbors=3, weights=distance, p=2 ............................\n",
      "[CV]  n_neighbors=3, weights=distance, p=2, score=0.277, total=  40.7s\n",
      "[CV] n_neighbors=4, weights=distance, p=1 ............................\n",
      "[CV]  n_neighbors=4, weights=distance, p=1, score=0.321, total=  40.4s\n",
      "[CV] n_neighbors=4, weights=distance, p=1 ............................\n",
      "[CV]  n_neighbors=4, weights=distance, p=1, score=0.317, total=  40.6s\n",
      "[CV] n_neighbors=4, weights=distance, p=1 ............................\n",
      "[CV] . n_neighbors=4, weights=distance, p=1, score=0.32, total=  40.1s\n",
      "[CV] n_neighbors=4, weights=distance, p=1 ............................\n",
      "[CV]  n_neighbors=4, weights=distance, p=1, score=0.286, total=  40.4s\n",
      "[CV] n_neighbors=4, weights=distance, p=1 ............................\n",
      "[CV]  n_neighbors=4, weights=distance, p=1, score=0.307, total=  40.3s\n",
      "[CV] n_neighbors=4, weights=distance, p=2 ............................\n",
      "[CV]  n_neighbors=4, weights=distance, p=2, score=0.281, total=  40.3s\n",
      "[CV] n_neighbors=4, weights=distance, p=2 ............................\n",
      "[CV]  n_neighbors=4, weights=distance, p=2, score=0.299, total=  40.5s\n",
      "[CV] n_neighbors=4, weights=distance, p=2 ............................\n",
      "[CV] .. n_neighbors=4, weights=distance, p=2, score=0.3, total=  40.0s\n",
      "[CV] n_neighbors=4, weights=distance, p=2 ............................\n",
      "[CV]  n_neighbors=4, weights=distance, p=2, score=0.273, total=  40.1s\n",
      "[CV] n_neighbors=4, weights=distance, p=2 ............................\n",
      "[CV]  n_neighbors=4, weights=distance, p=2, score=0.278, total=  40.8s\n",
      "[CV] n_neighbors=5, weights=distance, p=1 ............................\n",
      "[CV]  n_neighbors=5, weights=distance, p=1, score=0.326, total=  40.6s\n",
      "[CV] n_neighbors=5, weights=distance, p=1 ............................\n",
      "[CV]  n_neighbors=5, weights=distance, p=1, score=0.329, total=  40.8s\n",
      "[CV] n_neighbors=5, weights=distance, p=1 ............................\n",
      "[CV]  n_neighbors=5, weights=distance, p=1, score=0.332, total=  40.2s\n",
      "[CV] n_neighbors=5, weights=distance, p=1 ............................\n",
      "[CV] .. n_neighbors=5, weights=distance, p=1, score=0.3, total=  39.7s\n",
      "[CV] n_neighbors=5, weights=distance, p=1 ............................\n",
      "[CV]  n_neighbors=5, weights=distance, p=1, score=0.303, total=  40.1s\n",
      "[CV] n_neighbors=5, weights=distance, p=2 ............................\n",
      "[CV]  n_neighbors=5, weights=distance, p=2, score=0.286, total=  43.7s\n",
      "[CV] n_neighbors=5, weights=distance, p=2 ............................\n",
      "[CV]  n_neighbors=5, weights=distance, p=2, score=0.305, total=  44.0s\n",
      "[CV] n_neighbors=5, weights=distance, p=2 ............................\n",
      "[CV]  n_neighbors=5, weights=distance, p=2, score=0.312, total=  44.2s\n",
      "[CV] n_neighbors=5, weights=distance, p=2 ............................\n",
      "[CV]  n_neighbors=5, weights=distance, p=2, score=0.278, total=  43.6s\n",
      "[CV] n_neighbors=5, weights=distance, p=2 ............................\n",
      "[CV]  n_neighbors=5, weights=distance, p=2, score=0.279, total=  44.1s\n"
     ]
    },
    {
     "name": "stderr",
     "output_type": "stream",
     "text": [
      "[Parallel(n_jobs=-1)]: Done  50 out of  50 | elapsed: 143.7min finished\n"
     ]
    },
    {
     "data": {
      "text/plain": [
       "GridSearchCV(cv=5, error_score='raise',\n",
       "       estimator=KNeighborsClassifier(algorithm='auto', leaf_size=30, metric='minkowski',\n",
       "           metric_params=None, n_jobs=1, n_neighbors=5, p=2,\n",
       "           weights='uniform'),\n",
       "       fit_params=None, iid=True, n_jobs=-1,\n",
       "       param_grid={'n_neighbors': [1, 2, 3, 4, 5], 'weights': ['distance'], 'p': [1, 2]},\n",
       "       pre_dispatch='2*n_jobs', refit=True, return_train_score='warn',\n",
       "       scoring=None, verbose=5)"
      ]
     },
     "execution_count": 22,
     "metadata": {},
     "output_type": "execute_result"
    }
   ],
   "source": [
    "\n",
    "weighted_knn_gs = GridSearchCV(knn_weighted, params, n_jobs=-1, cv=5, refit= True, verbose=5)\n",
    "weighted_knn_gs.fit(X_train, y_train)"
   ]
  },
  {
   "cell_type": "code",
   "execution_count": 27,
   "metadata": {},
   "outputs": [
    {
     "data": {
      "text/plain": [
       "['WeightedKNNGSmodel.pkl']"
      ]
     },
     "execution_count": 27,
     "metadata": {},
     "output_type": "execute_result"
    }
   ],
   "source": [
    "from sklearn.externals import joblib\n",
    "joblib.dump(weighted_knn_gs, 'WeightedKNNGSmodel.pkl')"
   ]
  },
  {
   "cell_type": "code",
   "execution_count": 47,
   "metadata": {},
   "outputs": [],
   "source": [
    "## Reload saved model\n",
    "from sklearn.externals import joblib  \n",
    "weighted_knn_gs= joblib.load('WeightedKNNGSmodel.pkl') "
   ]
  },
  {
   "cell_type": "code",
   "execution_count": 23,
   "metadata": {},
   "outputs": [
    {
     "name": "stderr",
     "output_type": "stream",
     "text": [
      "/opt/conda/lib/python3.5/site-packages/sklearn/utils/deprecation.py:122: FutureWarning: You are accessing a training score ('mean_train_score'), which will not be available by default any more in 0.21. If you need training scores, please set return_train_score=True\n",
      "  warnings.warn(*warn_args, **warn_kwargs)\n",
      "/opt/conda/lib/python3.5/site-packages/sklearn/utils/deprecation.py:122: FutureWarning: You are accessing a training score ('split0_train_score'), which will not be available by default any more in 0.21. If you need training scores, please set return_train_score=True\n",
      "  warnings.warn(*warn_args, **warn_kwargs)\n",
      "/opt/conda/lib/python3.5/site-packages/sklearn/utils/deprecation.py:122: FutureWarning: You are accessing a training score ('split1_train_score'), which will not be available by default any more in 0.21. If you need training scores, please set return_train_score=True\n",
      "  warnings.warn(*warn_args, **warn_kwargs)\n",
      "/opt/conda/lib/python3.5/site-packages/sklearn/utils/deprecation.py:122: FutureWarning: You are accessing a training score ('split2_train_score'), which will not be available by default any more in 0.21. If you need training scores, please set return_train_score=True\n",
      "  warnings.warn(*warn_args, **warn_kwargs)\n",
      "/opt/conda/lib/python3.5/site-packages/sklearn/utils/deprecation.py:122: FutureWarning: You are accessing a training score ('split3_train_score'), which will not be available by default any more in 0.21. If you need training scores, please set return_train_score=True\n",
      "  warnings.warn(*warn_args, **warn_kwargs)\n",
      "/opt/conda/lib/python3.5/site-packages/sklearn/utils/deprecation.py:122: FutureWarning: You are accessing a training score ('split4_train_score'), which will not be available by default any more in 0.21. If you need training scores, please set return_train_score=True\n",
      "  warnings.warn(*warn_args, **warn_kwargs)\n",
      "/opt/conda/lib/python3.5/site-packages/sklearn/utils/deprecation.py:122: FutureWarning: You are accessing a training score ('std_train_score'), which will not be available by default any more in 0.21. If you need training scores, please set return_train_score=True\n",
      "  warnings.warn(*warn_args, **warn_kwargs)\n"
     ]
    },
    {
     "data": {
      "text/plain": [
       "{'mean_fit_time': array([0.72638783, 0.66212354, 0.63975639, 0.60639648, 0.62311935,\n",
       "        0.61396298, 0.61482944, 0.62376528, 0.62784963, 0.67423129]),\n",
       " 'mean_score_time': array([40.10339079, 45.17692866, 40.17591295, 39.71863708, 40.00872183,\n",
       "        39.88761349, 39.75558949, 39.7178628 , 39.65812507, 43.26408153]),\n",
       " 'mean_test_score': array([0.29  , 0.2778, 0.29  , 0.2778, 0.3026, 0.2854, 0.3102, 0.2862,\n",
       "        0.318 , 0.292 ]),\n",
       " 'mean_train_score': array([1., 1., 1., 1., 1., 1., 1., 1., 1., 1.]),\n",
       " 'param_n_neighbors': masked_array(data=[1, 1, 2, 2, 3, 3, 4, 4, 5, 5],\n",
       "              mask=[False, False, False, False, False, False, False, False,\n",
       "                    False, False],\n",
       "        fill_value='?',\n",
       "             dtype=object),\n",
       " 'param_p': masked_array(data=[1, 2, 1, 2, 1, 2, 1, 2, 1, 2],\n",
       "              mask=[False, False, False, False, False, False, False, False,\n",
       "                    False, False],\n",
       "        fill_value='?',\n",
       "             dtype=object),\n",
       " 'param_weights': masked_array(data=['distance', 'distance', 'distance', 'distance',\n",
       "                    'distance', 'distance', 'distance', 'distance',\n",
       "                    'distance', 'distance'],\n",
       "              mask=[False, False, False, False, False, False, False, False,\n",
       "                    False, False],\n",
       "        fill_value='?',\n",
       "             dtype=object),\n",
       " 'params': [{'n_neighbors': 1, 'p': 1, 'weights': 'distance'},\n",
       "  {'n_neighbors': 1, 'p': 2, 'weights': 'distance'},\n",
       "  {'n_neighbors': 2, 'p': 1, 'weights': 'distance'},\n",
       "  {'n_neighbors': 2, 'p': 2, 'weights': 'distance'},\n",
       "  {'n_neighbors': 3, 'p': 1, 'weights': 'distance'},\n",
       "  {'n_neighbors': 3, 'p': 2, 'weights': 'distance'},\n",
       "  {'n_neighbors': 4, 'p': 1, 'weights': 'distance'},\n",
       "  {'n_neighbors': 4, 'p': 2, 'weights': 'distance'},\n",
       "  {'n_neighbors': 5, 'p': 1, 'weights': 'distance'},\n",
       "  {'n_neighbors': 5, 'p': 2, 'weights': 'distance'}],\n",
       " 'rank_test_score': array([5, 9, 5, 9, 3, 8, 2, 7, 1, 4], dtype=int32),\n",
       " 'split0_test_score': array([0.302, 0.284, 0.302, 0.284, 0.313, 0.284, 0.321, 0.281, 0.326,\n",
       "        0.286]),\n",
       " 'split0_train_score': array([1., 1., 1., 1., 1., 1., 1., 1., 1., 1.]),\n",
       " 'split1_test_score': array([0.302, 0.295, 0.302, 0.295, 0.316, 0.304, 0.317, 0.299, 0.329,\n",
       "        0.305]),\n",
       " 'split1_train_score': array([1., 1., 1., 1., 1., 1., 1., 1., 1., 1.]),\n",
       " 'split2_test_score': array([0.287, 0.274, 0.287, 0.274, 0.312, 0.289, 0.32 , 0.3  , 0.332,\n",
       "        0.312]),\n",
       " 'split2_train_score': array([1., 1., 1., 1., 1., 1., 1., 1., 1., 1.]),\n",
       " 'split3_test_score': array([0.274, 0.269, 0.274, 0.269, 0.278, 0.273, 0.286, 0.273, 0.3  ,\n",
       "        0.278]),\n",
       " 'split3_train_score': array([1., 1., 1., 1., 1., 1., 1., 1., 1., 1.]),\n",
       " 'split4_test_score': array([0.285, 0.267, 0.285, 0.267, 0.294, 0.277, 0.307, 0.278, 0.303,\n",
       "        0.279]),\n",
       " 'split4_train_score': array([1., 1., 1., 1., 1., 1., 1., 1., 1., 1.]),\n",
       " 'std_fit_time': array([0.12072772, 0.01796029, 0.06166806, 0.02346876, 0.02925088,\n",
       "        0.00313556, 0.00601537, 0.02957527, 0.03312501, 0.03642924]),\n",
       " 'std_score_time': array([0.56702497, 3.48300209, 0.61033928, 0.35646744, 0.91966549,\n",
       "        0.30691071, 0.15756638, 0.2883579 , 0.39884028, 0.25471655]),\n",
       " 'std_test_score': array([0.01075174, 0.01041921, 0.01075174, 0.01041921, 0.01452722,\n",
       "        0.0108185 , 0.01307517, 0.01116065, 0.01363818, 0.01392839]),\n",
       " 'std_train_score': array([0., 0., 0., 0., 0., 0., 0., 0., 0., 0.])}"
      ]
     },
     "execution_count": 23,
     "metadata": {},
     "output_type": "execute_result"
    }
   ],
   "source": [
    "weighted_knn_gs.cv_results_"
   ]
  },
  {
   "cell_type": "markdown",
   "metadata": {},
   "source": [
    "## Test Weighted KNN Grid Search Model on Test_data"
   ]
  },
  {
   "cell_type": "code",
   "execution_count": 48,
   "metadata": {},
   "outputs": [],
   "source": [
    "import time\n",
    "from sklearn.metrics import accuracy_score\n",
    "knn1 = weighted_knn_gs.best_estimator_\n",
    "start = time.time()\n",
    "y_pred1 = knn1.predict(X_test)\n",
    "weighted_score = accuracy_score(y_test, y_pred1)\n",
    "duration3 = time.time()-start"
   ]
  },
  {
   "cell_type": "code",
   "execution_count": 49,
   "metadata": {},
   "outputs": [
    {
     "data": {
      "text/plain": [
       "0.299"
      ]
     },
     "execution_count": 49,
     "metadata": {},
     "output_type": "execute_result"
    }
   ],
   "source": [
    "weighted_score"
   ]
  },
  {
   "cell_type": "code",
   "execution_count": 51,
   "metadata": {},
   "outputs": [],
   "source": [
    "results.loc[len(results)] = [\"KNN Weighted(Gridsearch)\", np.round(weighted_score, 3), round(duration3*1000,3)]"
   ]
  },
  {
   "cell_type": "code",
   "execution_count": 52,
   "metadata": {
    "scrolled": true
   },
   "outputs": [
    {
     "data": {
      "text/plain": [
       "(array([0.29  , 0.2778, 0.29  , 0.2778, 0.3026, 0.2854, 0.3102, 0.2862,\n",
       "        0.318 , 0.292 ]),)"
      ]
     },
     "execution_count": 52,
     "metadata": {},
     "output_type": "execute_result"
    }
   ],
   "source": [
    " weighted_knn_gs.cv_results_[\"mean_test_score\"],"
   ]
  },
  {
   "cell_type": "code",
   "execution_count": 53,
   "metadata": {
    "scrolled": true
   },
   "outputs": [
    {
     "name": "stdout",
     "output_type": "stream",
     "text": [
      "{'n_neighbors': 5, 'p': 1, 'weights': 'distance'}\n"
     ]
    }
   ],
   "source": [
    "print(weighted_knn_gs.best_params_)\n"
   ]
  },
  {
   "cell_type": "code",
   "execution_count": 54,
   "metadata": {},
   "outputs": [
    {
     "name": "stdout",
     "output_type": "stream",
     "text": [
      "1\n",
      "5\n"
     ]
    }
   ],
   "source": [
    "weighted_best_p = weighted_knn_gs.best_params_[\"p\"]\n",
    "weighted_best_n = weighted_knn_gs.best_params_[\"n_neighbors\"]\n",
    "print(weighted_best_p)\n",
    "print(weighted_best_n)"
   ]
  },
  {
   "cell_type": "markdown",
   "metadata": {},
   "source": [
    "## Examine Model"
   ]
  },
  {
   "cell_type": "code",
   "execution_count": 55,
   "metadata": {},
   "outputs": [
    {
     "name": "stdout",
     "output_type": "stream",
     "text": [
      "0.318\n",
      "{'n_neighbors': 5, 'p': 1, 'weights': 'distance'}\n",
      "KNeighborsClassifier(algorithm='auto', leaf_size=30, metric='minkowski',\n",
      "           metric_params=None, n_jobs=1, n_neighbors=5, p=1,\n",
      "           weights='distance')\n"
     ]
    }
   ],
   "source": [
    "print(weighted_knn_gs.best_score_)\n",
    "print(weighted_knn_gs.best_params_)\n",
    "print(weighted_knn_gs.best_estimator_)"
   ]
  },
  {
   "cell_type": "markdown",
   "metadata": {},
   "source": [
    "# Results\n"
   ]
  },
  {
   "cell_type": "code",
   "execution_count": 56,
   "metadata": {},
   "outputs": [
    {
     "data": {
      "text/html": [
       "<div>\n",
       "<style scoped>\n",
       "    .dataframe tbody tr th:only-of-type {\n",
       "        vertical-align: middle;\n",
       "    }\n",
       "\n",
       "    .dataframe tbody tr th {\n",
       "        vertical-align: top;\n",
       "    }\n",
       "\n",
       "    .dataframe thead th {\n",
       "        text-align: right;\n",
       "    }\n",
       "</style>\n",
       "<table border=\"1\" class=\"dataframe\">\n",
       "  <thead>\n",
       "    <tr style=\"text-align: right;\">\n",
       "      <th></th>\n",
       "      <th>Model</th>\n",
       "      <th>Test Accuracy</th>\n",
       "      <th>Runtime(ms)</th>\n",
       "    </tr>\n",
       "  </thead>\n",
       "  <tbody>\n",
       "    <tr>\n",
       "      <th>0</th>\n",
       "      <td>KNN (Arbitary Sklearn)</td>\n",
       "      <td>0.262</td>\n",
       "      <td>0.035</td>\n",
       "    </tr>\n",
       "    <tr>\n",
       "      <th>1</th>\n",
       "      <td>KNN (default)</td>\n",
       "      <td>0.276</td>\n",
       "      <td>231.000</td>\n",
       "    </tr>\n",
       "    <tr>\n",
       "      <th>2</th>\n",
       "      <td>KNN (default)</td>\n",
       "      <td>0.276</td>\n",
       "      <td>231.000</td>\n",
       "    </tr>\n",
       "    <tr>\n",
       "      <th>3</th>\n",
       "      <td>KNN (grid search)</td>\n",
       "      <td>0.315</td>\n",
       "      <td>273973.531</td>\n",
       "    </tr>\n",
       "    <tr>\n",
       "      <th>4</th>\n",
       "      <td>KNN (best model test)</td>\n",
       "      <td>0.286</td>\n",
       "      <td>273973.531</td>\n",
       "    </tr>\n",
       "    <tr>\n",
       "      <th>5</th>\n",
       "      <td>KNN Weighted Sklearn</td>\n",
       "      <td>0.299</td>\n",
       "      <td>315923.851</td>\n",
       "    </tr>\n",
       "    <tr>\n",
       "      <th>6</th>\n",
       "      <td>KNN Weighted(Gridsearch)</td>\n",
       "      <td>0.299</td>\n",
       "      <td>60139.476</td>\n",
       "    </tr>\n",
       "  </tbody>\n",
       "</table>\n",
       "</div>"
      ],
      "text/plain": [
       "                      Model  Test Accuracy  Runtime(ms)\n",
       "0    KNN (Arbitary Sklearn)          0.262        0.035\n",
       "1             KNN (default)          0.276      231.000\n",
       "2             KNN (default)          0.276      231.000\n",
       "3         KNN (grid search)          0.315   273973.531\n",
       "4     KNN (best model test)          0.286   273973.531\n",
       "5      KNN Weighted Sklearn          0.299   315923.851\n",
       "6  KNN Weighted(Gridsearch)          0.299    60139.476"
      ]
     },
     "execution_count": 56,
     "metadata": {},
     "output_type": "execute_result"
    }
   ],
   "source": [
    "results"
   ]
  },
  {
   "cell_type": "markdown",
   "metadata": {},
   "source": [
    "# Results and Best Model\n",
    "\n",
    " Based on the above  results table  KNN Grid search on train_set is more accurate, about 31 percent \n",
    "compared to other models. When testing this model on test_set the accuracy droped to about 28 percent.\n",
    "For weighted KNN accuracy results are same that is 29.99 percent.\n",
    "The best model here is the classification model that uses weighted KNN model as the accuracy is consistent in both train and test set.\n",
    "\n",
    "For the first KNN classification using GridSearch p value is 2 as it took significantly long time for GridSearch process. But Grid Search with p_range(1, 4) has also been done but there was no significant change in accuracy.\n",
    "\n",
    "For the GridSearch with weighted KNN p value is in range(1,4).\n"
   ]
  }
 ],
 "metadata": {
  "kernelspec": {
   "display_name": "Python 3",
   "language": "python",
   "name": "python3"
  },
  "language_info": {
   "codemirror_mode": {
    "name": "ipython",
    "version": 3
   },
   "file_extension": ".py",
   "mimetype": "text/x-python",
   "name": "python",
   "nbconvert_exporter": "python",
   "pygments_lexer": "ipython3",
   "version": "3.5.5"
  },
  "toc": {
   "base_numbering": 1,
   "nav_menu": {},
   "number_sections": true,
   "sideBar": true,
   "skip_h1_title": false,
   "title_cell": "Table of Contents",
   "title_sidebar": "Contents",
   "toc_cell": false,
   "toc_position": {},
   "toc_section_display": true,
   "toc_window_display": true
  }
 },
 "nbformat": 4,
 "nbformat_minor": 2
}
